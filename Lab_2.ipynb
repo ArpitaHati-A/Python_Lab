{
  "nbformat": 4,
  "nbformat_minor": 0,
  "metadata": {
    "colab": {
      "provenance": []
    },
    "kernelspec": {
      "name": "python3",
      "display_name": "Python 3"
    },
    "language_info": {
      "name": "python"
    }
  },
  "cells": [
    {
      "cell_type": "markdown",
      "source": [
        "Sample program to find the sum of square root of any three numbers"
      ],
      "metadata": {
        "id": "D-5oGKDBP__L"
      }
    },
    {
      "cell_type": "code",
      "execution_count": 1,
      "metadata": {
        "colab": {
          "base_uri": "https://localhost:8080/"
        },
        "id": "BFBQVtODOf7L",
        "outputId": "b3bd0bfd-3eff-49b1-9ca6-94b7ccb56cd7"
      },
      "outputs": [
        {
          "output_type": "stream",
          "name": "stdout",
          "text": [
            "Enter 1st number: 6\n",
            "Enter 2nd number: 9\n",
            "Enter 3rd number: 8\n",
            "Sum=  8.277916867529369\n"
          ]
        }
      ],
      "source": [
        "import math\n",
        "a=float(input(\"Enter 1st number: \"))\n",
        "b=float(input(\"Enter 2nd number: \"))\n",
        "c=float(input(\"Enter 3rd number: \"))\n",
        "\n",
        "sum= math.sqrt(a)+math.sqrt(b)+math.sqrt(c)\n",
        "print(\"Sum= \", sum)"
      ]
    },
    {
      "cell_type": "markdown",
      "source": [
        "Sample program to solve the quadratic equation\n",
        "\n",
        "---\n",
        "\n"
      ],
      "metadata": {
        "id": "0vfQ3dmORLkG"
      }
    },
    {
      "cell_type": "code",
      "source": [
        "import math\n",
        "\n",
        "def solve_quadratic(a, b, c):\n",
        "    # Calculate the discriminant\n",
        "    discriminant = b**2 - 4*a*c\n",
        "\n",
        "    if discriminant > 0:\n",
        "        # Two distinct real roots\n",
        "        root1 = (-b + math.sqrt(discriminant)) / (2*a)\n",
        "        root2 = (-b - math.sqrt(discriminant)) / (2*a)\n",
        "        return (\"Two distinct real roots\", root1, root2)\n",
        "    elif discriminant == 0:\n",
        "        # One real root (double root)\n",
        "        root = -b / (2*a)\n",
        "        return (\"One real root\", root)\n",
        "    else:\n",
        "        # Two complex roots\n",
        "        real_part = -b / (2*a)\n",
        "        imaginary_part = math.sqrt(-discriminant) / (2*a)\n",
        "        root1 = complex(real_part, imaginary_part)\n",
        "        root2 = complex(real_part, -imaginary_part)\n",
        "        return (\"Two complex roots\", root1, root2)\n",
        "\n",
        "a = float(input(\"Enter coefficient a: \"))\n",
        "b = float(input(\"Enter coefficient b: \"))\n",
        "c = float(input(\"Enter coefficient c: \"))\n",
        "\n",
        "solution = solve_quadratic(a, b, c)\n",
        "\n",
        "if len(solution) == 3:\n",
        "    print(f\"The quadratic equation {a}x^2 + {b}x + {c} = 0 has {solution[0]}: {solution[1]}, {solution[2]}\")\n",
        "else:\n",
        "    print(f\"The quadratic equation {a}x^2 + {b}x + {c} = 0 has {solution[0]}: {solution[1]}\")"
      ],
      "metadata": {
        "colab": {
          "base_uri": "https://localhost:8080/"
        },
        "id": "QzFOOI8hR_k8",
        "outputId": "a4c06afd-90a2-4b3c-8ec5-7b0590b2fd88"
      },
      "execution_count": 2,
      "outputs": [
        {
          "output_type": "stream",
          "name": "stdout",
          "text": [
            "Enter coefficient a: 3\n",
            "Enter coefficient b: 6\n",
            "Enter coefficient c: 18\n",
            "The quadratic equation 3.0x^2 + 6.0x + 18.0 = 0 has Two complex roots: (-1+2.23606797749979j), (-1-2.23606797749979j)\n"
          ]
        }
      ]
    },
    {
      "cell_type": "markdown",
      "source": [
        "Sample progrm to find GCD of two numbers"
      ],
      "metadata": {
        "id": "0ODb3hBhSUGY"
      }
    },
    {
      "cell_type": "code",
      "source": [
        "a=int(input(\"Enter a value:\"))\n",
        "b=int(input(\"Enter a value:\"))\n",
        "while a!=b:\n",
        "    if a>b:\n",
        "        a=a-b\n",
        "    else:\n",
        "        b=b-a\n",
        "print(a)"
      ],
      "metadata": {
        "colab": {
          "base_uri": "https://localhost:8080/"
        },
        "id": "aC9f6DeiSdg0",
        "outputId": "57f9a79c-73a6-4380-edff-b3071f5b9a7d"
      },
      "execution_count": 3,
      "outputs": [
        {
          "output_type": "stream",
          "name": "stdout",
          "text": [
            "Enter a value:18\n",
            "Enter a value:48\n",
            "6\n"
          ]
        }
      ]
    },
    {
      "cell_type": "markdown",
      "source": [
        "Sample program to compute a)5 to the power of 8 b)square root of 400 c)exponent of 5 d)Logarithm of 625\n",
        "base 5"
      ],
      "metadata": {
        "id": "ISe5A9cfS4kY"
      }
    },
    {
      "cell_type": "code",
      "source": [
        "import math\n",
        "\n",
        "# 5 to the power of 8\n",
        "power_result = 5 ** 8\n",
        "\n",
        "# Square root of 400\n",
        "sqrt_result = math.sqrt(400)\n",
        "\n",
        "# Exponent of 5 (e^5)\n",
        "exp_result = math.exp(5)\n",
        "\n",
        "# Logarithm of 625 with base 5\n",
        "log_result = math.log(625, 5)\n",
        "\n",
        "print(f\"5 to the power of 8 is: {power_result}\")\n",
        "print(f\"Square root of 400 is: {sqrt_result}\")\n",
        "print(f\"Exponent of 5 is: {exp_result}\")\n",
        "print(f\"Logarithm of 625 with base 5 is: {log_result}\")"
      ],
      "metadata": {
        "colab": {
          "base_uri": "https://localhost:8080/"
        },
        "id": "pgmW0wWNTBrJ",
        "outputId": "de57d9e3-e728-43f1-b18d-b6e909b21627"
      },
      "execution_count": 4,
      "outputs": [
        {
          "output_type": "stream",
          "name": "stdout",
          "text": [
            "5 to the power of 8 is: 390625\n",
            "Square root of 400 is: 20.0\n",
            "Exponent of 5 is: 148.4131591025766\n",
            "Logarithm of 625 with base 5 is: 4.0\n"
          ]
        }
      ]
    },
    {
      "cell_type": "markdown",
      "source": [
        "Sample program to compute a)sin of 60 degree b)cos of pi c)sin(0.8660254037844386) d)tan of 90 degree"
      ],
      "metadata": {
        "id": "V3-YJ-DJTtN6"
      }
    },
    {
      "cell_type": "code",
      "source": [
        "import math\n",
        "# a) Sin of 60 degrees\n",
        "sin_60_degrees = math.sin(math.radians(60))\n",
        "\n",
        "# b) Cos of pi\n",
        "cos_pi = math.cos(math.pi)\n",
        "\n",
        "# c) Sin of 0.8660254037844386\n",
        "sin_value = math.sin(0.8660254037844386)\n",
        "\n",
        "# d) Tangent of 90 degrees (This will result in an undefined value in mathematics and an error in most implementations)\n",
        "try:\n",
        "    tan_90_degrees = math.tan(math.radians(90))\n",
        "except ValueError as e:\n",
        "    tan_90_degrees = str(e)\n",
        "\n",
        "print(f\"Sin of 60 degrees is: {sin_60_degrees}\")\n",
        "print(f\"Cos of pi is: {cos_pi}\")\n",
        "print(f\"Sin of 0.8660254037844386 is: {sin_value}\")\n",
        "print(f\"Tangent of 90 degrees is: {tan_90_degrees}\")"
      ],
      "metadata": {
        "colab": {
          "base_uri": "https://localhost:8080/"
        },
        "id": "wMsW3Z0KT2eR",
        "outputId": "c517451d-35ee-46a9-c655-e5d8936d52e5"
      },
      "execution_count": 5,
      "outputs": [
        {
          "output_type": "stream",
          "name": "stdout",
          "text": [
            "Sin of 60 degrees is: 0.8660254037844386\n",
            "Cos of pi is: -1.0\n",
            "Sin of 0.8660254037844386 is: 0.7617599814162892\n",
            "Tangent of 90 degrees is: 1.633123935319537e+16\n"
          ]
        }
      ]
    },
    {
      "cell_type": "markdown",
      "source": [
        "Sample program to define a sum function with two parameters and call the function"
      ],
      "metadata": {
        "id": "0KxS7ReBUzfe"
      }
    },
    {
      "cell_type": "code",
      "source": [
        "def sum(a, b):\n",
        "    return a + b\n",
        "result = sum(3, 5)\n",
        "print(\"The sum is:\", result)"
      ],
      "metadata": {
        "colab": {
          "base_uri": "https://localhost:8080/"
        },
        "id": "odZ8VRvdU75A",
        "outputId": "e530b0ee-dce5-4928-80b2-772c58a23fbd"
      },
      "execution_count": 6,
      "outputs": [
        {
          "output_type": "stream",
          "name": "stdout",
          "text": [
            "The sum is: 8\n"
          ]
        }
      ]
    },
    {
      "cell_type": "markdown",
      "source": [
        "Sample program to reverse a given string"
      ],
      "metadata": {
        "id": "VaTsAs8JVPcw"
      }
    },
    {
      "cell_type": "code",
      "source": [
        "def reverse_string(s):\n",
        "    return s[::-1]\n",
        "input_string = \"Hello, World!\"\n",
        "reversed_string = reverse_string(input_string)\n",
        "print(\"Original string:\", input_string)\n",
        "print(\"Reversed string:\", reversed_string)"
      ],
      "metadata": {
        "colab": {
          "base_uri": "https://localhost:8080/"
        },
        "id": "MuaoBV1xVVkh",
        "outputId": "e7ee9581-1828-4b8c-ad92-6b97570fa3f3"
      },
      "execution_count": 7,
      "outputs": [
        {
          "output_type": "stream",
          "name": "stdout",
          "text": [
            "Original string: Hello, World!\n",
            "Reversed string: !dlroW ,olleH\n"
          ]
        }
      ]
    },
    {
      "cell_type": "markdown",
      "source": [
        "Sample program to calculate the power of a number using recursion"
      ],
      "metadata": {
        "id": "qzTsTXZiVuDv"
      }
    },
    {
      "cell_type": "code",
      "source": [
        "def power_recursive(base, exponent):\n",
        "    if exponent == 0:\n",
        "        return 1\n",
        "    else:\n",
        "        return base * power_recursive(base, exponent - 1)\n",
        "base = int(input(\"Enter the base: \"))\n",
        "exponent = int(input(\"Enter the exponent: \"))\n",
        "result = power_recursive(base, exponent)\n",
        "print(f\"{base} to the power of {exponent} is {result}\")\n"
      ],
      "metadata": {
        "colab": {
          "base_uri": "https://localhost:8080/"
        },
        "id": "Cz3Nxk3YV04M",
        "outputId": "6b784e28-1cd4-4866-f04e-5d6ec413adcd"
      },
      "execution_count": 9,
      "outputs": [
        {
          "output_type": "stream",
          "name": "stdout",
          "text": [
            "Enter the base: 5\n",
            "Enter the exponent: 3\n",
            "5 to the power of 3 is 125\n"
          ]
        }
      ]
    },
    {
      "cell_type": "markdown",
      "source": [
        "Sample program to convert Decimal number to Binary"
      ],
      "metadata": {
        "id": "9eT6RUVbWaAq"
      }
    },
    {
      "cell_type": "code",
      "source": [
        "def decimal_to_binary(n):\n",
        "    return bin(n).replace(\"0b\", \"\")\n",
        "decimal_number = int(input(\"Enter a decimal number: \"))\n",
        "binary_number = decimal_to_binary(decimal_number)\n",
        "print(f\"The binary representation of {decimal_number} is {binary_number}\")\n"
      ],
      "metadata": {
        "colab": {
          "base_uri": "https://localhost:8080/"
        },
        "id": "lQ_OEAIpWhIo",
        "outputId": "c33845a8-27c8-4dbf-8662-28dbcfbe90d5"
      },
      "execution_count": 10,
      "outputs": [
        {
          "output_type": "stream",
          "name": "stdout",
          "text": [
            "Enter a decimal number: 7\n",
            "The binary representation of 7 is 111\n"
          ]
        }
      ]
    },
    {
      "cell_type": "markdown",
      "source": [
        "Sample program to check if a number is Krishnamurthy number"
      ],
      "metadata": {
        "id": "_ZCZniGtWq4I"
      }
    },
    {
      "cell_type": "code",
      "source": [
        "def factorial(n):\n",
        "    if n == 0 or n == 1:\n",
        "        return 1\n",
        "    else:\n",
        "        return n * factorial(n - 1)\n",
        "\n",
        "def is_krishnamurthy_number(number):\n",
        "    sum_of_factorials = 0\n",
        "    temp = number\n",
        "    while temp > 0:\n",
        "        digit = temp % 10\n",
        "        sum_of_factorials += factorial(digit)\n",
        "        temp //= 10\n",
        "\n",
        "    return sum_of_factorials == number\n",
        "\n",
        "# Example usage\n",
        "number = 145\n",
        "if is_krishnamurthy_number(number):\n",
        "    print(f\"{number} is a Krishnamurthy number.\")\n",
        "else:\n",
        "    print(f\"{number} is not a Krishnamurthy number.\")"
      ],
      "metadata": {
        "colab": {
          "base_uri": "https://localhost:8080/"
        },
        "id": "4QKDDzs0Wzgb",
        "outputId": "65f3aded-f900-4972-bf75-83a1de88fd56"
      },
      "execution_count": 11,
      "outputs": [
        {
          "output_type": "stream",
          "name": "stdout",
          "text": [
            "145 is a Krishnamurthy number.\n"
          ]
        }
      ]
    },
    {
      "cell_type": "markdown",
      "source": [
        "Sample program to find the sum of digits of a number"
      ],
      "metadata": {
        "id": "9x0Det93XJUz"
      }
    },
    {
      "cell_type": "code",
      "source": [
        "def sum_of_digits(number):\n",
        "    digits = str(number)\n",
        "    total_sum = 0\n",
        "    for digit in digits:\n",
        "        total_sum += int(digit)\n",
        "    return total_sum\n",
        "if __name__ == \"__main__\":\n",
        "    user_input = input(\"Enter a number: \")\n",
        "    try:\n",
        "        number = int(user_input)\n",
        "        result = sum_of_digits(number)\n",
        "        print(f\"The sum of the digits of {number} is {result}.\")\n",
        "    except ValueError:\n",
        "        print(\"Please enter a valid integer.\")\n"
      ],
      "metadata": {
        "colab": {
          "base_uri": "https://localhost:8080/"
        },
        "id": "Atc_5yhRXQaD",
        "outputId": "2c80c8a3-8443-40b9-822e-bd8731621296"
      },
      "execution_count": 12,
      "outputs": [
        {
          "output_type": "stream",
          "name": "stdout",
          "text": [
            "Enter a number: 45398\n",
            "The sum of the digits of 45398 is 29.\n"
          ]
        }
      ]
    },
    {
      "cell_type": "markdown",
      "source": [
        "Sample program that prompts the user to input a number and prints its\n",
        "multiplication table"
      ],
      "metadata": {
        "id": "JGnCWLVUYW8p"
      }
    },
    {
      "cell_type": "code",
      "source": [
        "def print_multiplication_table(number):\n",
        "    print(f\"Multiplication Table for {number}:\")\n",
        "    for i in range(1, 11):\n",
        "        print(f\"{number} x {i} = {number * i}\")\n",
        "number = int(input(\"Enter a number: \"))\n",
        "print_multiplication_table(number)"
      ],
      "metadata": {
        "colab": {
          "base_uri": "https://localhost:8080/"
        },
        "id": "aTaXG3mBYer4",
        "outputId": "d4961c38-70d8-4d9a-bbb6-772c43071e8c"
      },
      "execution_count": 13,
      "outputs": [
        {
          "output_type": "stream",
          "name": "stdout",
          "text": [
            "Enter a number: 9\n",
            "Multiplication Table for 9:\n",
            "9 x 1 = 9\n",
            "9 x 2 = 18\n",
            "9 x 3 = 27\n",
            "9 x 4 = 36\n",
            "9 x 5 = 45\n",
            "9 x 6 = 54\n",
            "9 x 7 = 63\n",
            "9 x 8 = 72\n",
            "9 x 9 = 81\n",
            "9 x 10 = 90\n"
          ]
        }
      ]
    },
    {
      "cell_type": "markdown",
      "source": [
        "Sample program to print the first 6 terms of a geometric sequence starting with 2\n",
        "and having a common ratio of 3"
      ],
      "metadata": {
        "id": "qbKBVjZTYsm6"
      }
    },
    {
      "cell_type": "code",
      "source": [
        "def geometric_sequence(start, ratio, terms):\n",
        "    sequence = []\n",
        "    current_term = start\n",
        "    for _ in range(terms):\n",
        "        sequence.append(current_term)\n",
        "        current_term *= ratio\n",
        "    return sequence\n",
        "\n",
        "# Define the starting term, common ratio, and number of terms\n",
        "start_term = 2\n",
        "common_ratio = 3\n",
        "number_of_terms = 6\n",
        "\n",
        "# Generate the sequence\n",
        "sequence = geometric_sequence(start_term, common_ratio, number_of_terms)\n",
        "\n",
        "# Print the sequence\n",
        "print(\"The first 6 terms of the geometric sequence are:\", sequence)"
      ],
      "metadata": {
        "colab": {
          "base_uri": "https://localhost:8080/"
        },
        "id": "0S4-J5sGY9af",
        "outputId": "a4bfea2d-a8c0-4c4b-c746-5ee66b4c114d"
      },
      "execution_count": 14,
      "outputs": [
        {
          "output_type": "stream",
          "name": "stdout",
          "text": [
            "The first 6 terms of the geometric sequence are: [2, 6, 18, 54, 162, 486]\n"
          ]
        }
      ]
    },
    {
      "cell_type": "markdown",
      "source": [
        "Sample program to print the series upto N terms: 1,2,6,24,120,720 …"
      ],
      "metadata": {
        "id": "yw-hwgSSZVdc"
      }
    },
    {
      "cell_type": "code",
      "source": [
        "def factorial(n):\n",
        "    if n == 0 or n == 1:\n",
        "        return 1\n",
        "    else:\n",
        "        return n * factorial(n - 1)\n",
        "\n",
        "def print_factorial_series(lim):\n",
        "    for i in range(1, lim + 1):\n",
        "        print(factorial(i), end=\" \")\n",
        "lim = int(input(\"Enter the number of terms: \"))\n",
        "print(f\"The series up to {lim} terms is:\")\n",
        "print_factorial_series(lim)"
      ],
      "metadata": {
        "colab": {
          "base_uri": "https://localhost:8080/"
        },
        "id": "UuMI3n3lZd8M",
        "outputId": "74e8aab3-033b-42ff-8567-90799b95ffb1"
      },
      "execution_count": 16,
      "outputs": [
        {
          "output_type": "stream",
          "name": "stdout",
          "text": [
            "Enter the number of terms: 10\n",
            "The series up to 10 terms is:\n",
            "1 2 6 24 120 720 5040 40320 362880 3628800 "
          ]
        }
      ]
    },
    {
      "cell_type": "markdown",
      "source": [
        "Sample program that prompts the user to enter a base number and an exponent,\n",
        "and then calculates the power of the base to the exponent. The program should not use the\n",
        "exponentiation operator (**) or the math.pow() function"
      ],
      "metadata": {
        "id": "Ck9sA44zZ3NP"
      }
    },
    {
      "cell_type": "code",
      "source": [
        "def power(base, exponent):\n",
        "    result = 1\n",
        "    for _ in range(exponent):\n",
        "        result *= base\n",
        "    return result\n",
        "base = int(input(\"Enter the base number: \"))\n",
        "exponent = int(input(\"Enter the exponent: \"))\n",
        "result = power(base, exponent)\n",
        "print(f\"{base} raised to the power of {exponent} is {result}\")"
      ],
      "metadata": {
        "colab": {
          "base_uri": "https://localhost:8080/"
        },
        "id": "1hCJwPd-aCjr",
        "outputId": "684b3461-0609-4386-b2de-0a6a59e8a577"
      },
      "execution_count": 17,
      "outputs": [
        {
          "output_type": "stream",
          "name": "stdout",
          "text": [
            "Enter the base number: 5\n",
            "Enter the exponent: 5\n",
            "5 raised to the power of 5 is 3125\n"
          ]
        }
      ]
    },
    {
      "cell_type": "markdown",
      "source": [
        "Misc- Sample program to check whether a number is Buzz or not"
      ],
      "metadata": {
        "id": "QVDohZkKfd6M"
      }
    },
    {
      "cell_type": "code",
      "source": [
        "def is_buzz_number(number):\n",
        "    return number % 7 == 0 or number % 10 == 7\n",
        "number = int(input(\"Enter a number: \"))\n",
        "if is_buzz_number(number):\n",
        "    print(f\"{number} is a Buzz number.\")\n",
        "else:\n",
        "    print(f\"{number} is not a Buzz number.\")"
      ],
      "metadata": {
        "colab": {
          "base_uri": "https://localhost:8080/"
        },
        "id": "NFEsxLMWf0hz",
        "outputId": "afc58db8-6497-49ab-c107-a65e245641ef"
      },
      "execution_count": 18,
      "outputs": [
        {
          "output_type": "stream",
          "name": "stdout",
          "text": [
            "Enter a number: 237\n",
            "237 is a Buzz number.\n"
          ]
        }
      ]
    },
    {
      "cell_type": "markdown",
      "source": [
        "Sample program to calculate the sum of natural numbers up to a certain range"
      ],
      "metadata": {
        "id": "8i4Ys7yqiOne"
      }
    },
    {
      "cell_type": "code",
      "source": [
        "def sum_of_natural_numbers(n):\n",
        "    return n * (n + 1) // 2\n",
        "n = int(input(\"Enter the range: \"))\n",
        "print(f\"The sum of natural numbers up to {n} is {sum_of_natural_numbers(n)}\")"
      ],
      "metadata": {
        "colab": {
          "base_uri": "https://localhost:8080/"
        },
        "id": "6CBc55yciWMn",
        "outputId": "bf2a3580-4477-456d-c794-7723acffc198"
      },
      "execution_count": 19,
      "outputs": [
        {
          "output_type": "stream",
          "name": "stdout",
          "text": [
            "Enter the range: 56\n",
            "The sum of natural numbers up to 56 is 1596\n"
          ]
        }
      ]
    },
    {
      "cell_type": "markdown",
      "source": [
        "Sample program to print all multiple of 10 between a given interval"
      ],
      "metadata": {
        "id": "3iWCHbE_i-Od"
      }
    },
    {
      "cell_type": "code",
      "source": [
        "def multiples_of_10(start, end):\n",
        "    for i in range(start, end + 1):\n",
        "        if i % 10 == 0:\n",
        "            print(i, end=\" \")\n",
        "start = int(input(\"Enter the start of the interval: \"))\n",
        "end = int(input(\"Enter the end of the interval: \"))\n",
        "print(f\"Multiples of 10 between {start} and {end}:\")\n",
        "multiples_of_10(start, end)"
      ],
      "metadata": {
        "colab": {
          "base_uri": "https://localhost:8080/"
        },
        "id": "XfIy4ofQjHdQ",
        "outputId": "ec563f33-8d5c-475d-f32d-71541d10df7f"
      },
      "execution_count": 20,
      "outputs": [
        {
          "output_type": "stream",
          "name": "stdout",
          "text": [
            "Enter the start of the interval: 10\n",
            "Enter the end of the interval: 100\n",
            "Multiples of 10 between 10 and 100:\n",
            "10 20 30 40 50 60 70 80 90 100 "
          ]
        }
      ]
    },
    {
      "cell_type": "markdown",
      "source": [
        "Sample program to find LCM of two Numbers"
      ],
      "metadata": {
        "id": "LPHZtYmVjThW"
      }
    },
    {
      "cell_type": "code",
      "source": [
        "def gcd(a, b):\n",
        "    while b:\n",
        "        a, b = b, a % b\n",
        "    return a\n",
        "\n",
        "def lcm(a, b):\n",
        "    return a * b // gcd(a, b)\n",
        "num1 = int(input(\"Enter the first number: \"))\n",
        "num2 = int(input(\"Enter the second number: \"))\n",
        "print(f\"The LCM of {num1} and {num2} is {lcm(num1, num2)}\")"
      ],
      "metadata": {
        "colab": {
          "base_uri": "https://localhost:8080/"
        },
        "id": "FnZNIbuRja2T",
        "outputId": "cc8a313d-2966-41cf-c44c-3080f89fd872"
      },
      "execution_count": 21,
      "outputs": [
        {
          "output_type": "stream",
          "name": "stdout",
          "text": [
            "Enter the first number: 15\n",
            "Enter the second number: 45\n",
            "The LCM of 15 and 45 is 45\n"
          ]
        }
      ]
    },
    {
      "cell_type": "markdown",
      "source": [
        "Sample program to find HCF of two Numbers"
      ],
      "metadata": {
        "id": "nL4uuAS5lTYb"
      }
    },
    {
      "cell_type": "code",
      "source": [
        "def gcd(a, b):\n",
        "    while b:\n",
        "        a, b = b, a % b\n",
        "    return a\n",
        "num1 = int(input(\"Enter the first number: \"))\n",
        "num2 = int(input(\"Enter the second number: \"))\n",
        "print(f\"The HCF of {num1} and {num2} is {gcd(num1, num2)}\")"
      ],
      "metadata": {
        "colab": {
          "base_uri": "https://localhost:8080/"
        },
        "id": "D9VYSW_-ldXD",
        "outputId": "5176bfdb-42dc-4f5e-8d86-d283893cf936"
      },
      "execution_count": 22,
      "outputs": [
        {
          "output_type": "stream",
          "name": "stdout",
          "text": [
            "Enter the first number: 16\n",
            "Enter the second number: 42\n",
            "The HCF of 16 and 42 is 2\n"
          ]
        }
      ]
    },
    {
      "cell_type": "markdown",
      "source": [
        "Sample program to count the number of digits of an integer"
      ],
      "metadata": {
        "id": "HoE5EDyJlmep"
      }
    },
    {
      "cell_type": "code",
      "source": [
        "def count_digits(number):\n",
        "    return len(str(abs(number)))\n",
        "number = int(input(\"Enter an integer: \"))\n",
        "print(f\"The number of digits in {number} is {count_digits(number)}\")"
      ],
      "metadata": {
        "colab": {
          "base_uri": "https://localhost:8080/"
        },
        "id": "nebv7btXltor",
        "outputId": "36287857-4dcd-4065-c838-22ac565cfc57"
      },
      "execution_count": 23,
      "outputs": [
        {
          "output_type": "stream",
          "name": "stdout",
          "text": [
            "Enter an integer: 46358\n",
            "The number of digits in 46358 is 5\n"
          ]
        }
      ]
    },
    {
      "cell_type": "markdown",
      "source": [
        "Sample program to find median of a set of numbers"
      ],
      "metadata": {
        "id": "I-eFP8emoIpC"
      }
    },
    {
      "cell_type": "code",
      "source": [
        "def find_median(numbers):\n",
        "    numbers.sort()\n",
        "    n = len(numbers)\n",
        "    mid = n // 2\n",
        "    if n % 2 == 0:\n",
        "        return (numbers[mid - 1] + numbers[mid]) / 2\n",
        "    else:\n",
        "        return numbers[mid]\n",
        "input_string = input(\"Enter the numbers separated by spaces: \")\n",
        "substrings = input_string.split()\n",
        "numbers = [int(substring) for substring in substrings]\n",
        "print(f\"The median is {find_median(numbers)}\")"
      ],
      "metadata": {
        "colab": {
          "base_uri": "https://localhost:8080/"
        },
        "id": "REBtesxPohPy",
        "outputId": "7e253e36-2710-4349-8116-b7a20d5dcf9c"
      },
      "execution_count": 25,
      "outputs": [
        {
          "output_type": "stream",
          "name": "stdout",
          "text": [
            "Enter the numbers separated by spaces: 1 3 3 6 7 8 9\n",
            "The median is 6\n"
          ]
        }
      ]
    },
    {
      "cell_type": "markdown",
      "source": [
        "Sample program to compute the value of Euler’s number that is used as the base of natural logarithms. Use the following formula. e= 1+ 1/1! +1 /2! + 1/3+................ 1/n!"
      ],
      "metadata": {
        "id": "kkaSnS3vpVyh"
      }
    },
    {
      "cell_type": "code",
      "source": [
        "import math\n",
        "\n",
        "def compute_euler_number(n):\n",
        "    e = 1\n",
        "    for i in range(1, n + 1):\n",
        "        e += 1 / math.factorial(i)\n",
        "    return e\n",
        "n = int(input(\"Enter the value of n: \"))\n",
        "print(f\"The value of Euler's number up to {n} terms is {compute_euler_number(n)}\")"
      ],
      "metadata": {
        "colab": {
          "base_uri": "https://localhost:8080/"
        },
        "id": "01Ef8IrDpfrc",
        "outputId": "50969c1d-e83f-4b43-f6ad-28ee3cd84382"
      },
      "execution_count": 26,
      "outputs": [
        {
          "output_type": "stream",
          "name": "stdout",
          "text": [
            "Enter the value of n: 20\n",
            "The value of Euler's number up to 20 terms is 2.7182818284590455\n"
          ]
        }
      ]
    },
    {
      "cell_type": "markdown",
      "source": [
        "Sample program to generate all combination of 1, 2, or 3 using loop"
      ],
      "metadata": {
        "id": "-KxMI7Q5p5GY"
      }
    },
    {
      "cell_type": "code",
      "source": [
        "def generate_combinations():\n",
        "    for i in range(1, 4):\n",
        "        for j in range(1, 4):\n",
        "            for k in range(1, 4):\n",
        "                print(f\"{i}{j}{k}\")\n",
        "generate_combinations()"
      ],
      "metadata": {
        "colab": {
          "base_uri": "https://localhost:8080/"
        },
        "id": "CyZpQ3BKqBFk",
        "outputId": "18ce9e02-e9b3-4392-a388-b8ddab70ee4f"
      },
      "execution_count": 27,
      "outputs": [
        {
          "output_type": "stream",
          "name": "stdout",
          "text": [
            "111\n",
            "112\n",
            "113\n",
            "121\n",
            "122\n",
            "123\n",
            "131\n",
            "132\n",
            "133\n",
            "211\n",
            "212\n",
            "213\n",
            "221\n",
            "222\n",
            "223\n",
            "231\n",
            "232\n",
            "233\n",
            "311\n",
            "312\n",
            "313\n",
            "321\n",
            "322\n",
            "323\n",
            "331\n",
            "332\n",
            "333\n"
          ]
        }
      ]
    },
    {
      "cell_type": "markdown",
      "source": [
        "Sample program to read two integer values m and n and to decide and print whether m is multiple of n"
      ],
      "metadata": {
        "id": "xtcxhtAUqUtL"
      }
    },
    {
      "cell_type": "code",
      "source": [
        "def is_multiple(m, n):\n",
        "    return m % n == 0\n",
        "m = int(input(\"Enter the first number (m): \"))\n",
        "n = int(input(\"Enter the second number (n): \"))\n",
        "if is_multiple(m, n):\n",
        "    print(f\"{m} is a multiple of {n}\")\n",
        "else:\n",
        "    print(f\"{m} is not a multiple of {n}\")"
      ],
      "metadata": {
        "colab": {
          "base_uri": "https://localhost:8080/"
        },
        "id": "eqY5ILDxrYE0",
        "outputId": "a0340c9b-bd01-446e-e4bf-8eb6bcd6afa4"
      },
      "execution_count": 29,
      "outputs": [
        {
          "output_type": "stream",
          "name": "stdout",
          "text": [
            "Enter the first number (m): 20\n",
            "Enter the second number (n): 5\n",
            "20 is a multiple of 5\n"
          ]
        }
      ]
    }
  ]
}