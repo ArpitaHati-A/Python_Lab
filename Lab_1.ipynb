{
  "nbformat": 4,
  "nbformat_minor": 0,
  "metadata": {
    "colab": {
      "provenance": []
    },
    "kernelspec": {
      "name": "python3",
      "display_name": "Python 3"
    },
    "language_info": {
      "name": "python"
    }
  },
  "cells": [
    {
      "cell_type": "markdown",
      "source": [
        "Sample program to convert temperature to celsius"
      ],
      "metadata": {
        "id": "uz0ylSRykHfN"
      }
    },
    {
      "cell_type": "code",
      "execution_count": null,
      "metadata": {
        "colab": {
          "base_uri": "https://localhost:8080/"
        },
        "id": "bPZVLpK4ghzD",
        "outputId": "2a8ad240-06ae-4a1c-dc06-3c60b0d4660b"
      },
      "outputs": [
        {
          "output_type": "stream",
          "name": "stdout",
          "text": [
            "Enter the Temperature in Celsius:44\n",
            "Temperature in Fahrenheit: 111.2\n"
          ]
        }
      ],
      "source": [
        "celsius=int(input(\"Enter the Temperature in Celsius:\"))\n",
        "fahrenheit=(1.8*celsius)+32\n",
        "print(\"Temperature in Fahrenheit:\", fahrenheit)"
      ]
    },
    {
      "cell_type": "markdown",
      "source": [
        "Sample program to swap two numbers"
      ],
      "metadata": {
        "id": "g4fnA0N_ZthB"
      }
    },
    {
      "cell_type": "code",
      "source": [
        "def swap (a,b):\n",
        "  a,b=b,a\n",
        "  print(\"After swap:\")\n",
        "  print(\"First number=\",a)\n",
        "  print(\"Second number=\",b)\n",
        "a=input(\"\\n Enter the first number:\")\n",
        "b=input(\"\\n Enter the second number:\")\n",
        "print(\"Before swap:\")\n",
        "print(\"First number=\",a)\n",
        "print(\"Second number=\",b)\n",
        "swap(a,b)"
      ],
      "metadata": {
        "id": "JzaE8ElJiK47",
        "colab": {
          "base_uri": "https://localhost:8080/"
        },
        "outputId": "164091d5-cdd2-4c47-d819-a67f587f5e32"
      },
      "execution_count": null,
      "outputs": [
        {
          "output_type": "stream",
          "name": "stdout",
          "text": [
            "\n",
            " Enter the first number:56\n",
            "\n",
            " Enter the second number:89\n",
            "Before swap:\n",
            "First number= 56\n",
            "Second number= 89\n",
            "After swap:\n",
            "First number= 89\n",
            "Second number= 56\n"
          ]
        }
      ]
    },
    {
      "cell_type": "markdown",
      "source": [
        "Sample program to check whether a year is leap year or not"
      ],
      "metadata": {
        "id": "FCUCy1DPa8DQ"
      }
    },
    {
      "cell_type": "code",
      "source": [
        "year=int(input(\"Enter any year:\"))\n",
        "if((year%4==0 and year%100!=0)or(year%400==0)):\n",
        "  print(\"Leap Year\")\n",
        "else:\n",
        "    print(\"Not a Leap Year\")"
      ],
      "metadata": {
        "colab": {
          "base_uri": "https://localhost:8080/"
        },
        "id": "TJSjLGIaaC5J",
        "outputId": "27c2c1ea-493a-42be-f3ab-bdcc78fa3066"
      },
      "execution_count": null,
      "outputs": [
        {
          "output_type": "stream",
          "name": "stdout",
          "text": [
            "Enter any year:2026\n",
            "Not a Leap Year\n"
          ]
        }
      ]
    },
    {
      "cell_type": "markdown",
      "source": [
        "Sample program to display reverse of a number"
      ],
      "metadata": {
        "id": "f4ot6PNZdaGD"
      }
    },
    {
      "cell_type": "code",
      "source": [
        "number = input(\"Enter a number to reverse: \")\n",
        "reversed_number = number[::-1]\n",
        "print(f\"The reversed number is: {reversed_number}\")"
      ],
      "metadata": {
        "colab": {
          "base_uri": "https://localhost:8080/"
        },
        "id": "AzOtj2vFbLkd",
        "outputId": "c39abf22-6a50-499c-b240-ceade791b14f"
      },
      "execution_count": null,
      "outputs": [
        {
          "output_type": "stream",
          "name": "stdout",
          "text": [
            "Enter a number to reverse: 65327\n",
            "The reversed number is: 72356\n"
          ]
        }
      ]
    },
    {
      "cell_type": "markdown",
      "source": [
        "Sample program to find factors of a given number"
      ],
      "metadata": {
        "id": "OAOyJuGJgaMV"
      }
    },
    {
      "cell_type": "code",
      "source": [
        "number = int(input(\"Enter a number to find its factors: \"))\n",
        "factors = [i for i in range(1, number + 1) if number % i == 0]\n",
        "print(f\"The factors of {number} are: {factors}\")\n"
      ],
      "metadata": {
        "id": "aU01AG2vdvfZ",
        "colab": {
          "base_uri": "https://localhost:8080/"
        },
        "outputId": "e1b6877e-6c3e-48f7-a91c-932f6b47eb84"
      },
      "execution_count": null,
      "outputs": [
        {
          "output_type": "stream",
          "name": "stdout",
          "text": [
            "Enter a number to find its factors: 16\n",
            "The factors of 16 are: [1, 2, 4, 8, 16]\n"
          ]
        }
      ]
    },
    {
      "cell_type": "markdown",
      "source": [
        "Sample program to generate prime number series upto n"
      ],
      "metadata": {
        "id": "fXsxR9SuXU_Z"
      }
    },
    {
      "cell_type": "code",
      "source": [
        "def is_prime(num):\n",
        "    if num <= 1:\n",
        "        return False\n",
        "    for i in range(2, int(num ** 0.5) + 1):\n",
        "        if num % i == 0:\n",
        "            return False\n",
        "    return True\n",
        "def prime_series(n):\n",
        "    primes = []\n",
        "    for num in range(2, n + 1):\n",
        "        if is_prime(num):\n",
        "            primes.append(num)\n",
        "    return primes\n",
        "n = 50\n",
        "print(f\"Prime numbers up to {n}: {prime_series(n)}\")\n"
      ],
      "metadata": {
        "id": "Gd5PJISUgxrL",
        "colab": {
          "base_uri": "https://localhost:8080/"
        },
        "outputId": "8aed00eb-95a3-4925-b8a6-434a639f754a"
      },
      "execution_count": 1,
      "outputs": [
        {
          "output_type": "stream",
          "name": "stdout",
          "text": [
            "Prime numbers up to 50: [2, 3, 5, 7, 11, 13, 17, 19, 23, 29, 31, 37, 41, 43, 47]\n"
          ]
        }
      ]
    },
    {
      "cell_type": "markdown",
      "source": [
        "Sample program to check whether a number is palindrome or not"
      ],
      "metadata": {
        "id": "CZD53jpaYd2s"
      }
    },
    {
      "cell_type": "code",
      "source": [
        "def is_palindrome(number):\n",
        "    str_number = str(number)\n",
        "    return str_number == str_number[::-1]\n",
        "number = int(input(\"Enter a number: \"))\n",
        "if is_palindrome(number):\n",
        "    print(f\"{number} is a palindrome.\")\n",
        "else:\n",
        "    print(f\"{number} is not a palindrome.\")\n"
      ],
      "metadata": {
        "colab": {
          "base_uri": "https://localhost:8080/"
        },
        "id": "c0fbwlkZXoK6",
        "outputId": "e05b2616-a70e-40c7-a28e-c37886049f8e"
      },
      "execution_count": 2,
      "outputs": [
        {
          "output_type": "stream",
          "name": "stdout",
          "text": [
            "Enter a number: 12521\n",
            "12521 is a palindrome.\n"
          ]
        }
      ]
    },
    {
      "cell_type": "markdown",
      "source": [
        "Sample program to generate the fibonacci series upto n"
      ],
      "metadata": {
        "id": "rgy2rqwwZ7mX"
      }
    },
    {
      "cell_type": "code",
      "source": [
        "def fibonacci_series(n):\n",
        "    fib_series = []\n",
        "    a, b = 0, 1\n",
        "    while a <= n:\n",
        "        fib_series.append(a)\n",
        "        a, b = b, a + b\n",
        "    return fib_series\n",
        "n = int(input(\"Enter a number: \"))\n",
        "fib_series = fibonacci_series(n)\n",
        "print(f\"Fibonacci series up to {n}: {fib_series}\")\n"
      ],
      "metadata": {
        "colab": {
          "base_uri": "https://localhost:8080/"
        },
        "id": "cno8qOENY98C",
        "outputId": "94e64ab0-71ff-451e-802a-8e7ea7481393"
      },
      "execution_count": 3,
      "outputs": [
        {
          "output_type": "stream",
          "name": "stdout",
          "text": [
            "Enter a number: 10\n",
            "Fibonacci series up to 10: [0, 1, 1, 2, 3, 5, 8]\n"
          ]
        }
      ]
    },
    {
      "cell_type": "markdown",
      "source": [
        "Sample program which makes use of function to display all such numbers which are\n",
        "divisible by 7 but are not a multiple of 5, between 1000 and 2000."
      ],
      "metadata": {
        "id": "NSPJg5wia9da"
      }
    },
    {
      "cell_type": "code",
      "source": [
        "def find_numbers():\n",
        "    result = []\n",
        "    for num in range(1000, 2001):\n",
        "        if num % 7 == 0 and num % 5 != 0:\n",
        "            result.append(num)\n",
        "    return result\n",
        "numbers = find_numbers()\n",
        "print(\"Numbers divisible by 7 but not a multiple of 5 between 1000 and 2000:\")\n",
        "print(numbers)\n"
      ],
      "metadata": {
        "colab": {
          "base_uri": "https://localhost:8080/"
        },
        "id": "Ez1wEy4Oa5j8",
        "outputId": "68c7eb68-7c97-4f18-c50b-e57f179377d2"
      },
      "execution_count": 4,
      "outputs": [
        {
          "output_type": "stream",
          "name": "stdout",
          "text": [
            "Numbers divisible by 7 but not a multiple of 5 between 1000 and 2000:\n",
            "[1001, 1008, 1022, 1029, 1036, 1043, 1057, 1064, 1071, 1078, 1092, 1099, 1106, 1113, 1127, 1134, 1141, 1148, 1162, 1169, 1176, 1183, 1197, 1204, 1211, 1218, 1232, 1239, 1246, 1253, 1267, 1274, 1281, 1288, 1302, 1309, 1316, 1323, 1337, 1344, 1351, 1358, 1372, 1379, 1386, 1393, 1407, 1414, 1421, 1428, 1442, 1449, 1456, 1463, 1477, 1484, 1491, 1498, 1512, 1519, 1526, 1533, 1547, 1554, 1561, 1568, 1582, 1589, 1596, 1603, 1617, 1624, 1631, 1638, 1652, 1659, 1666, 1673, 1687, 1694, 1701, 1708, 1722, 1729, 1736, 1743, 1757, 1764, 1771, 1778, 1792, 1799, 1806, 1813, 1827, 1834, 1841, 1848, 1862, 1869, 1876, 1883, 1897, 1904, 1911, 1918, 1932, 1939, 1946, 1953, 1967, 1974, 1981, 1988]\n"
          ]
        }
      ]
    },
    {
      "cell_type": "markdown",
      "source": [
        "Sample program to check whether a)is a perfect number b)is an Armstrong number"
      ],
      "metadata": {
        "id": "eSJMY4U2fTKC"
      }
    },
    {
      "cell_type": "code",
      "source": [
        "def is_perfect(number):\n",
        "    if number < 1:\n",
        "        return False\n",
        "    divisors_sum = sum([i for i in range(1, number) if number % i == 0])\n",
        "    return divisors_sum == number\n",
        "def is_armstrong(number):\n",
        "    num_str = str(number)\n",
        "    num_length = len(num_str)\n",
        "    armstrong_sum = sum([int(digit) ** num_length for digit in num_str])\n",
        "    return armstrong_sum == number\n",
        "number = int(input(\"Enter a number: \"))\n",
        "if is_perfect(number):\n",
        "    print(f\"{number} is a perfect number.\")\n",
        "else:\n",
        "    print(f\"{number} is not a perfect number.\")\n",
        "if is_armstrong(number):\n",
        "    print(f\"{number} is an Armstrong number.\")\n",
        "else:\n",
        "    print(f\"{number} is not an Armstrong number.\")\n"
      ],
      "metadata": {
        "colab": {
          "base_uri": "https://localhost:8080/"
        },
        "id": "0kxvx16ybU-u",
        "outputId": "4fa5b25e-5f0b-47ff-e756-908c4fa567db"
      },
      "execution_count": 5,
      "outputs": [
        {
          "output_type": "stream",
          "name": "stdout",
          "text": [
            "Enter a number: 153\n",
            "153 is not a perfect number.\n",
            "153 is an Armstrong number.\n"
          ]
        }
      ]
    },
    {
      "cell_type": "markdown",
      "source": [
        "Misc- Sample program to print your name"
      ],
      "metadata": {
        "id": "goYyMz6yjVAp"
      }
    },
    {
      "cell_type": "code",
      "source": [
        "name=\"Arpita Hati\"\n",
        "print(name)"
      ],
      "metadata": {
        "colab": {
          "base_uri": "https://localhost:8080/"
        },
        "id": "V3Yqnon7jtsy",
        "outputId": "9f6da6fc-d248-4993-dc99-cece5a1d4783"
      },
      "execution_count": 6,
      "outputs": [
        {
          "output_type": "stream",
          "name": "stdout",
          "text": [
            "Arpita Hati\n"
          ]
        }
      ]
    },
    {
      "cell_type": "markdown",
      "source": [
        "Sample program to add two numbers"
      ],
      "metadata": {
        "id": "-Bu6U72Cj6Hj"
      }
    },
    {
      "cell_type": "code",
      "source": [
        "num1 = int(input(\"Enter first number: \"))\n",
        "num2 = int(input(\"Enter second number: \"))\n",
        "sum = num1 + num2\n",
        "print(\"The sum of {0} and {1} is {2}.\".format(num1, num2, sum))\n"
      ],
      "metadata": {
        "colab": {
          "base_uri": "https://localhost:8080/"
        },
        "id": "PbdA5OqhkFWd",
        "outputId": "b1814f02-17a9-4eee-a155-5bde1c97f324"
      },
      "execution_count": 8,
      "outputs": [
        {
          "output_type": "stream",
          "name": "stdout",
          "text": [
            "Enter first number: 15\n",
            "Enter second number: 15\n",
            "The sum of 15 and 15 is 30.\n"
          ]
        }
      ]
    },
    {
      "cell_type": "markdown",
      "source": [
        "Sample program to change temperature from Fahrenheit to Celsius"
      ],
      "metadata": {
        "id": "80mlLlNRo0mL"
      }
    },
    {
      "cell_type": "code",
      "source": [
        "def fahrenheit_to_celsius(fahrenheit):\n",
        "    return (fahrenheit - 32) * 5 / 9\n",
        "fahrenheit = float(input(\"Enter temperature in Fahrenheit: \"))\n",
        "celsius = fahrenheit_to_celsius(fahrenheit)\n",
        "print(f\"{fahrenheit} Fahrenheit is equal to {celsius:.2f} Celsius.\")\n"
      ],
      "metadata": {
        "colab": {
          "base_uri": "https://localhost:8080/"
        },
        "id": "ipyRps_2q4d9",
        "outputId": "53959432-2aad-46b2-bc44-a25b055e5917"
      },
      "execution_count": 9,
      "outputs": [
        {
          "output_type": "stream",
          "name": "stdout",
          "text": [
            "Enter temperature in Fahrenheit: 98.6\n",
            "98.6 Fahrenheit is equal to 37.00 Celsius.\n"
          ]
        }
      ]
    },
    {
      "cell_type": "markdown",
      "source": [
        "Sample program to find area & perimeter of a circle"
      ],
      "metadata": {
        "id": "0KxX0WZhr7He"
      }
    },
    {
      "cell_type": "code",
      "source": [
        "import math\n",
        "def calculate_area(radius):\n",
        "    return math.pi * radius ** 2\n",
        "def calculate_perimeter(radius):\n",
        "    return 2 * math.pi * radius\n",
        "radius = float(input(\"Enter the radius of the circle: \"))\n",
        "area = calculate_area(radius)\n",
        "perimeter = calculate_perimeter(radius)\n",
        "print(f\"The area of the circle with radius {radius} is {area:.2f}.\")\n",
        "print(f\"The perimeter (circumference) of the circle with radius {radius} is {perimeter:.2f}.\")\n"
      ],
      "metadata": {
        "colab": {
          "base_uri": "https://localhost:8080/"
        },
        "id": "NfrfTL7GsfRO",
        "outputId": "d8cc0e9b-8d6b-4a97-c8f5-0db8dc26cdac"
      },
      "execution_count": 10,
      "outputs": [
        {
          "output_type": "stream",
          "name": "stdout",
          "text": [
            "Enter the radius of the circle: 5\n",
            "The area of the circle with radius 5.0 is 78.54.\n",
            "The perimeter (circumference) of the circle with radius 5.0 is 31.42.\n"
          ]
        }
      ]
    },
    {
      "cell_type": "markdown",
      "source": [
        "Sample program to find area & perimeter of a rectangle"
      ],
      "metadata": {
        "id": "ym_W39GXtNYA"
      }
    },
    {
      "cell_type": "code",
      "source": [
        "def calculate_area(length, width):\n",
        "    return length * width\n",
        "def calculate_perimeter(length, width):\n",
        "    return 2 * (length + width)\n",
        "length = float(input(\"Enter the length of the rectangle: \"))\n",
        "width = float(input(\"Enter the width of the rectangle: \"))\n",
        "area = calculate_area(length, width)\n",
        "perimeter = calculate_perimeter(length, width)\n",
        "print(f\"The area of the rectangle with length {length} and width {width} is {area:.2f}.\")\n",
        "print(f\"The perimeter of the rectangle with length {length} and width {width} is {perimeter:.2f}.\")\n"
      ],
      "metadata": {
        "colab": {
          "base_uri": "https://localhost:8080/"
        },
        "id": "dpVKaGvytfMe",
        "outputId": "0922f0b8-d85e-4c66-bb72-86fce587a98a"
      },
      "execution_count": 11,
      "outputs": [
        {
          "output_type": "stream",
          "name": "stdout",
          "text": [
            "Enter the length of the rectangle: 15\n",
            "Enter the width of the rectangle: 6\n",
            "The area of the rectangle with length 15.0 and width 6.0 is 90.00.\n",
            "The perimeter of the rectangle with length 15.0 and width 6.0 is 42.00.\n"
          ]
        }
      ]
    },
    {
      "cell_type": "markdown",
      "source": [
        "Sample program to display whether a number is odd or even"
      ],
      "metadata": {
        "id": "U6e6XZJ_upZj"
      }
    },
    {
      "cell_type": "code",
      "source": [
        "number = int(input(\"Enter a number: \"))\n",
        "if number % 2 == 0:\n",
        "    print(f\"{number} is an even number.\")\n",
        "else:\n",
        "    print(f\"{number} is an odd number.\")\n"
      ],
      "metadata": {
        "colab": {
          "base_uri": "https://localhost:8080/"
        },
        "id": "FAdayw7ju3dc",
        "outputId": "543bf24b-14e1-4ef5-9111-f4a9600e12fd"
      },
      "execution_count": 12,
      "outputs": [
        {
          "output_type": "stream",
          "name": "stdout",
          "text": [
            "Enter a number: 52\n",
            "52 is an even number.\n"
          ]
        }
      ]
    },
    {
      "cell_type": "markdown",
      "source": [
        "Sample program to check if a number is Positive or Negative"
      ],
      "metadata": {
        "id": "LbE9AWGXvhvV"
      }
    },
    {
      "cell_type": "code",
      "source": [
        "number = float(input(\"Enter a number: \"))\n",
        "if number > 0:\n",
        "    print(f\"{number} is a positive number.\")\n",
        "elif number < 0:\n",
        "    print(f\"{number} is a negative number.\")\n",
        "else:\n",
        "    print(f\"{number} is zero.\")\n"
      ],
      "metadata": {
        "colab": {
          "base_uri": "https://localhost:8080/"
        },
        "id": "bghZ6yIrv5Fd",
        "outputId": "f6e2be1a-e51e-4769-d774-8078a59ef077"
      },
      "execution_count": 13,
      "outputs": [
        {
          "output_type": "stream",
          "name": "stdout",
          "text": [
            "Enter a number: -9\n",
            "-9.0 is a negative number.\n"
          ]
        }
      ]
    },
    {
      "cell_type": "markdown",
      "source": [
        "Sample program to find maximum of three numbers"
      ],
      "metadata": {
        "id": "yv29_5g1zSGi"
      }
    },
    {
      "cell_type": "code",
      "source": [
        "num1 = int(input(\"Enter the first integer: \"))\n",
        "num2 = int(input(\"Enter the second integer: \"))\n",
        "num3 = int(input(\"Enter the third integer: \"))\n",
        "maximum = max(num1, num2, num3)\n",
        "print(f\"The maximum of {num1}, {num2}, and {num3} is {maximum}.\")\n"
      ],
      "metadata": {
        "colab": {
          "base_uri": "https://localhost:8080/"
        },
        "id": "_EuWQvT9ziL-",
        "outputId": "81b320c5-77e3-4bb4-ed42-ae8f0fa8c201"
      },
      "execution_count": 14,
      "outputs": [
        {
          "output_type": "stream",
          "name": "stdout",
          "text": [
            "Enter the first integer: 85\n",
            "Enter the second integer: 120\n",
            "Enter the third integer: 48\n",
            "The maximum of 85, 120, and 48 is 120.\n"
          ]
        }
      ]
    },
    {
      "cell_type": "markdown",
      "source": [
        "Sample program to convert miles to kilometers"
      ],
      "metadata": {
        "id": "TxvFFuGl0VJj"
      }
    },
    {
      "cell_type": "code",
      "source": [
        "def miles_to_kilometers(miles):\n",
        "    return miles * 1.60934\n",
        "miles = float(input(\"Enter distance in miles: \"))\n",
        "kilometers = miles_to_kilometers(miles)\n",
        "print(f\"{miles} miles is equal to {kilometers:.2f} kilometers.\")\n"
      ],
      "metadata": {
        "colab": {
          "base_uri": "https://localhost:8080/"
        },
        "id": "slp8v3Ov0b3L",
        "outputId": "baaeb3c3-894b-4ad4-dd28-6e4f36e14b43"
      },
      "execution_count": 15,
      "outputs": [
        {
          "output_type": "stream",
          "name": "stdout",
          "text": [
            "Enter distance in miles: 19\n",
            "19.0 miles is equal to 30.58 kilometers.\n"
          ]
        }
      ]
    },
    {
      "cell_type": "markdown",
      "source": [
        "Sample program to check whether a number is divisible by 5 or not"
      ],
      "metadata": {
        "id": "UCqgnRIe1O7C"
      }
    },
    {
      "cell_type": "code",
      "source": [
        "number = int(input(\"Enter a number: \"))\n",
        "if number % 5 == 0:\n",
        "    print(f\"{number} is divisible by 5.\")\n",
        "else:\n",
        "    print(f\"{number} is not divisible by 5.\")\n"
      ],
      "metadata": {
        "colab": {
          "base_uri": "https://localhost:8080/"
        },
        "id": "4IiEMeXq1Y_D",
        "outputId": "174c4959-cf85-45bf-9798-8c1a4bd4be43"
      },
      "execution_count": 16,
      "outputs": [
        {
          "output_type": "stream",
          "name": "stdout",
          "text": [
            "Enter a number: 56\n",
            "56 is not divisible by 5.\n"
          ]
        }
      ]
    }
  ]
}